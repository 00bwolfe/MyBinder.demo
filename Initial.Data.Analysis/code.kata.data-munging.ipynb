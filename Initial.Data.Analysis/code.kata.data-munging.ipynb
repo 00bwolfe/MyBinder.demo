{
 "cells": [
  {
   "cell_type": "markdown",
   "id": "f6792aa0-b370-493b-bbc2-d82a050c6a7c",
   "metadata": {},
   "source": [
    "#  Code Kata - Data\n",
    "\n",
    "http://codekata.com/kata/kata04-data-munging/\n",
    "\n",
    "In weather.dat you’ll find daily weather data for Morristown, NJ for June 2002. Download this text file, then write a program to output the day number (column one) with the smallest temperature spread (the maximum temperature is the second column, the minimum the third column).\n"
   ]
  },
  {
   "cell_type": "code",
   "execution_count": null,
   "id": "165d907e-e741-474e-8b04-5a43cf767b20",
   "metadata": {},
   "outputs": [],
   "source": [
    "curl -s http://codekata.com/data/04/weather.dat > weather.dat"
   ]
  },
  {
   "cell_type": "code",
   "execution_count": null,
   "id": "c18d0086-5c57-429e-9e31-9a51e36c180d",
   "metadata": {},
   "outputs": [],
   "source": [
    "cat -vetn weather.dat"
   ]
  },
  {
   "cell_type": "code",
   "execution_count": null,
   "id": "e0702672-088d-49ac-bf47-beb7338e5e09",
   "metadata": {},
   "outputs": [],
   "source": [
    "cat weather.dat |\n",
    "cut -d$'\\n' -f 3-32 |\n",
    "tr -s ' ' '\\t' |\n",
    "cut -f2-4 |\n",
    "tr -d '*' |\n",
    "while read day max min ; do echo $day $(( max - min )) $max $min ; done |\n",
    "tee /dev/stderr |\n",
    "sort -k2,2n |\n",
    "head -1\n"
   ]
  },
  {
   "cell_type": "code",
   "execution_count": null,
   "id": "d43bac3a-04af-49f9-844b-d8816057426f",
   "metadata": {},
   "outputs": [],
   "source": [
    "cat weather.dat | awk -v min=1000 '$1 ~ /[0-9]/ {diff = $2-$3 ; if (diff < min ) { min=diff ; day=$1 ; } } ; END { print day, min } '"
   ]
  },
  {
   "cell_type": "code",
   "execution_count": null,
   "id": "48e90ad6-c06d-4bc3-8c83-84d67bfa6bf0",
   "metadata": {},
   "outputs": [],
   "source": []
  }
 ],
 "metadata": {
  "kernelspec": {
   "display_name": "Bash",
   "language": "bash",
   "name": "bash"
  },
  "language_info": {
   "codemirror_mode": "shell",
   "file_extension": ".sh",
   "mimetype": "text/x-sh",
   "name": "bash"
  }
 },
 "nbformat": 4,
 "nbformat_minor": 5
}
