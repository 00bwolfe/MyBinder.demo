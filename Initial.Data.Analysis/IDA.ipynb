{
  "nbformat": 4,
  "nbformat_minor": 0,
  "metadata": {
    "colab": {
      "provenance": [],
      "authorship_tag": "ABX9TyO4lJ2EwFthdv7DgK5qGehL"
    },
    "kernelspec": {
      "name": "python3",
      "display_name": "Python 3"
    },
    "language_info": {
      "name": "python"
    }
  },
  "cells": [
    {
      "cell_type": "markdown",
      "metadata": {
        "id": "TzrddZIGO_5f"
      },
      "source": [
        "\n",
        "# Initial Data Analysis ( IDA )\n",
        "\n",
        "\n",
        "- [PLOS CompBio on IDA](https://journals.plos.org/ploscompbiol/article?id=10.1371/journal.pcbi.1009819)\n",
        "\n",
        "- [Data Analysis](https://en.wikipedia.org/wiki/Data_analysis) with a section on [IDA](https://en.wikipedia.org/wiki/Data_analysis#Initial_data_analysis).\n",
        "\n",
        "- [Notebooks on GitHub](https://github.com/rwcitek/MyBinder.demo)\n",
        "\n",
        "- [Mito for Jupyter](https://towardsdatascience.com/the-mito-jupyterlab-extension-a-spreadsheet-that-generates-python-b25d2c447d48)\n",
        "\n"
      ]
    },
    {
      "cell_type": "code",
      "source": [],
      "metadata": {
        "id": "eX4JFY_b_O6z"
      },
      "execution_count": null,
      "outputs": []
    }
  ]
}