{
 "cells": [
  {
   "cell_type": "markdown",
   "id": "f024ffc4-f6b9-4c22-8504-1ce725b1b5d1",
   "metadata": {},
   "source": [
    "# Data Structures on the system"
   ]
  },
  {
   "cell_type": "markdown",
   "id": "4d9e1bf0-f664-47a6-86f9-94f701393a00",
   "metadata": {},
   "source": [
    "The system has a number of data structures that it uses.  The two that we will be exploring are these:\n",
    "- the file system\n",
    "- a file"
   ]
  },
  {
   "cell_type": "markdown",
   "id": "201ca5b1-07ab-4abe-96da-36b4527bb754",
   "metadata": {},
   "source": [
    "### The file system"
   ]
  },
  {
   "cell_type": "markdown",
   "id": "b845dd6c-014b-47a0-b429-bc0ac77cdf84",
   "metadata": {},
   "source": [
    "The file system is where all data is stored and organized.  The structure is that of a hierarchy or tree with branches eminating from a \"root\" and from \"nodes\" ( aka branch points ) and terminating in \"leaves\".  \n"
   ]
  },
  {
   "cell_type": "markdown",
   "id": "c93e37da-20b6-4191-968d-7538dfd35685",
   "metadata": {},
   "source": [
    "### A file"
   ]
  },
  {
   "cell_type": "markdown",
   "id": "72d0ace9-a4d2-4ad8-80bc-8c4e3054cc97",
   "metadata": {},
   "source": [
    "A file is just a series of bytes of a finite length.  "
   ]
  },
  {
   "cell_type": "markdown",
   "id": "f0d0ee0e-2186-4ff0-a48e-4a3704b3763a",
   "metadata": {},
   "source": [
    "## The file system"
   ]
  },
  {
   "cell_type": "markdown",
   "id": "52c4c277-3f67-4038-83eb-3376198ac7e0",
   "metadata": {},
   "source": [
    "One command that we can use to display the file system hierarch is `tree`.\n",
    "\n",
    "For example:"
   ]
  },
  {
   "cell_type": "code",
   "execution_count": 10,
   "id": "1ad61435-d61c-483e-b216-b68ce55f95b4",
   "metadata": {},
   "outputs": [
    {
     "name": "stdout",
     "output_type": "stream",
     "text": [
      "/home/\n",
      "└── jovyan/\n",
      "    ├── apt.txt\n",
      "    ├── environment.yml\n",
      "    ├── hello.jl\n",
      "    ├── hello.R\n",
      "    ├── Initial.Data.Analysis/\n",
      "    │   ├── data-structures.files.folders.ipynb\n",
      "    │   ├── env.rc\n",
      "    │   └── README.md\n",
      "    ├── LICENSE\n",
      "    ├── LinuxTerminal/\n",
      "    │   └── Linux.Terminal.Setup.ipynb\n",
      "    ├── Manifest.toml\n",
      "    ├── postBuild*\n",
      "    ├── Project.toml\n",
      "    ├── README.md\n",
      "    ├── runtime.txt\n",
      "    └── start*\n",
      "\n",
      "3 directories, 15 files\n"
     ]
    }
   ],
   "source": [
    "tree -F /home/"
   ]
  },
  {
   "cell_type": "markdown",
   "id": "d99fbc2e-f180-41d4-8999-bc5161886fd3",
   "metadata": {},
   "source": [
    "( We will explain the details of using `tree` and other commands later.  For now, you can just run the commands to see what ouput they generate. )\n",
    "\n",
    "Here we see a portion of the file system hierarchy.  The tree is made up of only two elements: directories ( aka folders ) and files.  Directories can contain other directories ( aka subdirectories ) and files.  In this example, directories are denoted by ending with a '/' symbol.  Here we have four directories: home, jovyan, Initial.Data.Analysis, and LinuxTerminal.  The home folder has a single child, jovyan, which itself has a number of children, including two subdirectories, Initial.Data.Analysis and LinuxTerminal.  The LinuxTerminal directory contains no subdirectories and has only a single file, Linux.Terminal.Setup.ipynb.\n",
    "\n",
    "Notice that the home directory is prefixed with a slash '/'.  This is the symbol for the root of the tree or the \"root\" directory. The slash is also the symbol used to delineate directories from subdirectories.  For example, /home/\n",
    "\n",
    "\n"
   ]
  },
  {
   "cell_type": "markdown",
   "id": "c226298d-9be0-427e-a85b-88e5d4c0be40",
   "metadata": {},
   "source": [
    "ls /home/jov"
   ]
  },
  {
   "cell_type": "code",
   "execution_count": 9,
   "id": "a696dee5-6d34-498a-ac85-fbe99d766c8f",
   "metadata": {
    "tags": []
   },
   "outputs": [
    {
     "name": "stdout",
     "output_type": "stream",
     "text": [
      "/home/\n",
      "└── jovyan/\n",
      "    ├── apt.txt\n",
      "    ├── environment.yml\n",
      "    ├── hello.jl\n",
      "    ├── hello.R\n",
      "    ├── Initial.Data.Analysis/\n",
      "    │   ├── data-structures.files.folders.ipynb\n",
      "    │   ├── env.rc\n",
      "    │   └── README.md\n",
      "    ├── LICENSE\n",
      "    ├── LinuxTerminal/\n",
      "    │   └── Linux.Terminal.Setup.ipynb\n",
      "    ├── Manifest.toml\n",
      "    ├── postBuild*\n",
      "    ├── Project.toml\n",
      "    ├── README.md\n",
      "    ├── runtime.txt\n",
      "    └── start*\n",
      "\n",
      "3 directories, 15 files\n"
     ]
    }
   ],
   "source": [
    "tree -F /home/"
   ]
  },
  {
   "cell_type": "code",
   "execution_count": null,
   "id": "a131e5c3-d064-4cc9-9d23-78b16efb575a",
   "metadata": {},
   "outputs": [],
   "source": []
  }
 ],
 "metadata": {
  "kernelspec": {
   "display_name": "Bash",
   "language": "bash",
   "name": "bash"
  },
  "language_info": {
   "codemirror_mode": "shell",
   "file_extension": ".sh",
   "mimetype": "text/x-sh",
   "name": "bash"
  }
 },
 "nbformat": 4,
 "nbformat_minor": 5
}
