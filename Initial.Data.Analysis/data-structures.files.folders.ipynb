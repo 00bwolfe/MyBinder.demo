{
 "cells": [
  {
   "attachments": {},
   "cell_type": "markdown",
   "id": "f024ffc4-f6b9-4c22-8504-1ce725b1b5d1",
   "metadata": {},
   "source": [
    "# Data Structures on the system"
   ]
  },
  {
   "attachments": {},
   "cell_type": "markdown",
   "id": "64e010d7-57ff-47ec-b444-8cd4b04aa61d",
   "metadata": {},
   "source": [
    "### Prerequisites\n",
    "\n"
   ]
  },
  {
   "attachments": {},
   "cell_type": "markdown",
   "id": "fe7a4b39",
   "metadata": {},
   "source": [
    "Run these commands in the terminal pane of your VSCode session in CodeSpaces.\n",
    "Not needed if running this notebook in Binder."
   ]
  },
  {
   "cell_type": "code",
   "execution_count": null,
   "id": "102bc8ca",
   "metadata": {
    "vscode": {
     "languageId": "shellscript"
    }
   },
   "outputs": [],
   "source": [
    "sudo apt-get update\n",
    "sudo apt-get install -y wamerican-insane"
   ]
  },
  {
   "cell_type": "code",
   "execution_count": 2,
   "id": "512a8b25-47f7-413e-915e-1eda51a0a688",
   "metadata": {},
   "outputs": [
    {
     "name": "stdout",
     "output_type": "stream",
     "text": [
      "13\n",
      "13\n"
     ]
    }
   ],
   "source": [
    "commands=\"tree find ls cat head tail wc fgrep cut seq shuf sed awk\"\n",
    "<<< ${commands} tr ' ' '\\n' | wc -l\n",
    "which ${commands} | wc -l"
   ]
  },
  {
   "attachments": {},
   "cell_type": "markdown",
   "id": "4d9e1bf0-f664-47a6-86f9-94f701393a00",
   "metadata": {},
   "source": [
    "The system has a number of data structures that it uses.  The two that we will be exploring are these:\n",
    "- the file system\n",
    "- a file\n",
    "\n",
    "And like any other data structure, we can perform the four CRUD operations on them: Create, Read, Update, Delete."
   ]
  },
  {
   "attachments": {},
   "cell_type": "markdown",
   "id": "201ca5b1-07ab-4abe-96da-36b4527bb754",
   "metadata": {},
   "source": [
    "### The file system"
   ]
  },
  {
   "attachments": {},
   "cell_type": "markdown",
   "id": "b845dd6c-014b-47a0-b429-bc0ac77cdf84",
   "metadata": {},
   "source": [
    "The file system is where all data is stored and organized.  The structure is that of a hierarchy or tree with branches eminating from a \"root\" and from \"nodes\" ( aka branch points ) and terminating in \"leaves\".  \n"
   ]
  },
  {
   "attachments": {},
   "cell_type": "markdown",
   "id": "c93e37da-20b6-4191-968d-7538dfd35685",
   "metadata": {},
   "source": [
    "### A file"
   ]
  },
  {
   "attachments": {},
   "cell_type": "markdown",
   "id": "72d0ace9-a4d2-4ad8-80bc-8c4e3054cc97",
   "metadata": {},
   "source": [
    "A file is just a series of bytes of a finite length stored on the file system."
   ]
  },
  {
   "attachments": {},
   "cell_type": "markdown",
   "id": "f0d0ee0e-2186-4ff0-a48e-4a3704b3763a",
   "metadata": {},
   "source": [
    "## The file system"
   ]
  },
  {
   "attachments": {},
   "cell_type": "markdown",
   "id": "52c4c277-3f67-4038-83eb-3376198ac7e0",
   "metadata": {},
   "source": [
    "One command that we can use to display the file system hierarch is `tree`.\n",
    "\n",
    "For example:"
   ]
  },
  {
   "cell_type": "code",
   "execution_count": 1,
   "id": "1ad61435-d61c-483e-b216-b68ce55f95b4",
   "metadata": {},
   "outputs": [
    {
     "name": "stdout",
     "output_type": "stream",
     "text": [
      "/etc/apt/\n",
      "├── apt.conf.d/\n",
      "│   ├── 01autoremove\n",
      "│   ├── 01autoremove-kernels\n",
      "│   ├── 01-vendor-ubuntu\n",
      "│   ├── 70debconf\n",
      "│   ├── docker-autoremove-suggests\n",
      "│   ├── docker-clean\n",
      "│   ├── docker-gzip-indexes\n",
      "│   └── docker-no-languages\n",
      "├── auth.conf.d/\n",
      "├── preferences.d/\n",
      "├── sources.list\n",
      "├── sources.list.d/\n",
      "└── trusted.gpg.d/\n",
      "    ├── ubuntu-keyring-2012-archive.gpg\n",
      "    ├── ubuntu-keyring-2012-cdimage.gpg\n",
      "    └── ubuntu-keyring-2018-archive.gpg\n",
      "\n",
      "5 directories, 12 files\n"
     ]
    }
   ],
   "source": [
    "tree -F /etc/apt/"
   ]
  },
  {
   "cell_type": "code",
   "execution_count": 3,
   "id": "f00236a5-d707-4d35-b6d8-beb9df8370b2",
   "metadata": {},
   "outputs": [
    {
     "name": "stdout",
     "output_type": "stream",
     "text": [
      "/etc/apt\n",
      "/etc/apt/sources.list.d\n",
      "/etc/apt/sources.list\n",
      "/etc/apt/auth.conf.d\n",
      "/etc/apt/apt.conf.d\n",
      "/etc/apt/apt.conf.d/docker-clean\n",
      "/etc/apt/apt.conf.d/01autoremove\n",
      "/etc/apt/apt.conf.d/docker-no-languages\n",
      "/etc/apt/apt.conf.d/docker-autoremove-suggests\n",
      "/etc/apt/apt.conf.d/01autoremove-kernels\n",
      "/etc/apt/apt.conf.d/01-vendor-ubuntu\n",
      "/etc/apt/apt.conf.d/70debconf\n",
      "/etc/apt/apt.conf.d/docker-gzip-indexes\n",
      "/etc/apt/preferences.d\n",
      "/etc/apt/trusted.gpg.d\n",
      "/etc/apt/trusted.gpg.d/ubuntu-keyring-2012-archive.gpg\n",
      "/etc/apt/trusted.gpg.d/ubuntu-keyring-2018-archive.gpg\n",
      "/etc/apt/trusted.gpg.d/ubuntu-keyring-2012-cdimage.gpg\n"
     ]
    }
   ],
   "source": [
    "find /etc/apt\n"
   ]
  },
  {
   "attachments": {},
   "cell_type": "markdown",
   "id": "d99fbc2e-f180-41d4-8999-bc5161886fd3",
   "metadata": {},
   "source": [
    "( We will explain the details of using `tree` and other commands later.  For now, you can just run the commands to see what ouput they generate. )\n",
    "\n",
    "Here we see a portion of the file system hierarchy.  The tree is made up of only two elements: directories ( aka folders ) and files.  Directories can contain other directories ( aka subdirectories ) and files.  In this example, directories are denoted by ending with a '/' symbol.  Here we have four directories: home, jovyan, Initial.Data.Analysis, and LinuxTerminal.  The home folder has a single child, jovyan, which itself has a number of children, including two subdirectories, Initial.Data.Analysis and LinuxTerminal.  The LinuxTerminal directory contains no subdirectories and has only a single file, Linux.Terminal.Setup.ipynb.\n",
    "\n",
    "Notice that the home directory is prefixed with a slash '/'.  This is the symbol for the root of the tree or the \"root\" directory. The slash is also the symbol used to delineate directories from subdirectories.  For example, we can list the files and folders in a specific directory by using the `ls` command:"
   ]
  },
  {
   "cell_type": "code",
   "execution_count": 2,
   "id": "4cdf7fbc-302a-47aa-917e-70b9eb562a96",
   "metadata": {},
   "outputs": [
    {
     "name": "stdout",
     "output_type": "stream",
     "text": [
      "apt.txt\n",
      "environment.yml\n",
      "hello.jl\n",
      "hello.R\n",
      "Initial.Data.Analysis/\n",
      "LICENSE\n",
      "LinuxTerminal/\n",
      "Manifest.toml\n",
      "postBuild*\n",
      "Project.toml\n",
      "README.md\n",
      "runtime.txt\n",
      "start*\n"
     ]
    }
   ],
   "source": [
    "ls -F /home/jovyan/"
   ]
  },
  {
   "attachments": {},
   "cell_type": "markdown",
   "id": "abafdb51-eeaf-440b-86aa-eea0891e2862",
   "metadata": {
    "tags": []
   },
   "source": [
    "A few items to note:\n",
    "1. all subdirectories end with a slash '/'. \n",
    "1. the contents of those subfolders are not listed\n",
    "1. files are listed in alphabetical order\n",
    "1. file names can have a mix of upper and lower case characters\n",
    "\n",
    "Chaining together directories and subdirectories is called creating a path.  In the previous example '/home/jovyan/' is the path. Since LinuxTerminal is a subdirectory, we can append it to the path.  For example:"
   ]
  },
  {
   "cell_type": "code",
   "execution_count": 3,
   "id": "a131e5c3-d064-4cc9-9d23-78b16efb575a",
   "metadata": {},
   "outputs": [
    {
     "name": "stdout",
     "output_type": "stream",
     "text": [
      "Linux.Terminal.Setup.ipynb\n"
     ]
    }
   ],
   "source": [
    "ls -F /home/jovyan/LinuxTerminal/"
   ]
  },
  {
   "attachments": {},
   "cell_type": "markdown",
   "id": "d2b34307-d214-4d6e-89b9-b794389e6660",
   "metadata": {},
   "source": [
    "In this case, there is only one file in the LinuxTerminal subdirectory and there are no further subdirectories.  We have reached the end of the path."
   ]
  },
  {
   "attachments": {},
   "cell_type": "markdown",
   "id": "bee4358e-b5c7-4008-bb8d-d3a1002eb8f4",
   "metadata": {},
   "source": [
    "## Files"
   ]
  },
  {
   "attachments": {},
   "cell_type": "markdown",
   "id": "437375cc-4d55-4b40-9cdb-fe51e2ec7b11",
   "metadata": {},
   "source": [
    "### File contents"
   ]
  },
  {
   "attachments": {},
   "cell_type": "markdown",
   "id": "7a269f03-337a-4c48-95e9-8bdbbce52976",
   "metadata": {},
   "source": [
    "Just like `ls` displays the contents of a subdirectory, `cat` displays the contents of a file ... with some interpretation.  For example:"
   ]
  },
  {
   "cell_type": "code",
   "execution_count": 4,
   "id": "15211066-19ea-45c6-b536-ff668dc295ae",
   "metadata": {},
   "outputs": [
    {
     "name": "stdout",
     "output_type": "stream",
     "text": [
      "buster/sid\n"
     ]
    }
   ],
   "source": [
    "cat /etc/debian_version"
   ]
  },
  {
   "attachments": {},
   "cell_type": "markdown",
   "id": "1416166d-2b84-4f60-ae4c-bff060cc0d96",
   "metadata": {},
   "source": [
    "`cat` displays the characters that are in the file. ( Notice the absence of a period at the end. )  However ..."
   ]
  },
  {
   "attachments": {},
   "cell_type": "markdown",
   "id": "80396db3-ee11-45e6-b29e-c107d80dbde2",
   "metadata": {},
   "source": [
    "What is really on the storage device is actually just a series of 1's and 0's.  And we can display that using the `xxd` command.  For example,"
   ]
  },
  {
   "cell_type": "code",
   "execution_count": 5,
   "id": "dd951df2-90f0-48fc-8479-d021fa2034bd",
   "metadata": {},
   "outputs": [
    {
     "name": "stdout",
     "output_type": "stream",
     "text": [
      "0110001001110101011100110111010001100101011100100010111101110011011010010110010000001010\n"
     ]
    }
   ],
   "source": [
    "xxd -b -g0 /etc/debian_version | cut -d' ' -f2 | tr -d '\\n' ; echo "
   ]
  },
  {
   "attachments": {},
   "cell_type": "markdown",
   "id": "255c5bc6-485d-487d-9bd0-f5518e913165",
   "metadata": {},
   "source": [
    "We can modify the previous command to dispay the interpretation:"
   ]
  },
  {
   "cell_type": "code",
   "execution_count": 6,
   "id": "39506d99-5a70-4a23-8bb9-1334c996c0c9",
   "metadata": {},
   "outputs": [
    {
     "name": "stdout",
     "output_type": "stream",
     "text": [
      "011000100111010101110011011101000110010101110010  buster\n",
      "0010111101110011011010010110010000001010          /sid.\n"
     ]
    }
   ],
   "source": [
    "xxd -b -g0 /etc/debian_version | cut -d' ' -f2-"
   ]
  },
  {
   "attachments": {},
   "cell_type": "markdown",
   "id": "3801823c-8798-4f0f-8b6a-5005886d57a8",
   "metadata": {},
   "source": [
    "We can modify it further to format the 1's and 0's into groups of eight, called a byte, so that they are easier to view as well as prefix each line with a count ( notice that the count is zero-based. )"
   ]
  },
  {
   "cell_type": "code",
   "execution_count": 7,
   "id": "bb692494-6690-4a99-ae30-2f623e86d8df",
   "metadata": {},
   "outputs": [
    {
     "name": "stdout",
     "output_type": "stream",
     "text": [
      "00000000: 01100010 01110101 01110011 01110100 01100101 01110010  buster\n",
      "00000006: 00101111 01110011 01101001 01100100 00001010           /sid.\n"
     ]
    }
   ],
   "source": [
    "xxd -b -g1 /etc/debian_version"
   ]
  },
  {
   "attachments": {},
   "cell_type": "markdown",
   "id": "4c28b29e-3f47-4d9f-bb36-3a8d30e138d8",
   "metadata": {},
   "source": [
    "On the far right of the output, we see that the 1's and 0's get interpreted as the letters 'b', 'u', 's', etc.  Also notice that the last byte '00001010' was displayed as a '.' That byte is actually a non-printable character, one of many.  This one happens to be the end-of-line ( aka newline or '\\n' ) character, which we will encounter more of later on.  Other non-printable characters frequently encountered include tab ( '\\t' ) , carriage return ( '\\r' ), and null ( '\\0' )."
   ]
  },
  {
   "attachments": {},
   "cell_type": "markdown",
   "id": "f9fc55f0-15d1-4248-8d81-1a95ae2169bd",
   "metadata": {},
   "source": [
    "### Lines"
   ]
  },
  {
   "attachments": {},
   "cell_type": "markdown",
   "id": "e864a4c7-c3f0-46b5-aea3-a76340f9130b",
   "metadata": {},
   "source": [
    "One way to interpret a file stream is as a collection of \"lines\" with each line being a collection of \"text\" characters.  Many files use this approach, e.g. CSV, YAML, HTML.  For these \"text\" files, a program can read the file one character at a time until it gets to an \"end-of-line\" character, then it can operate on that line, then read the next line.  `cat` does this with every line in a file. For example, we can have `cat` prefix each line with the line number:"
   ]
  },
  {
   "cell_type": "code",
   "execution_count": 8,
   "id": "4a3b2e5a-70af-47b1-831d-fc0ab855c8d9",
   "metadata": {},
   "outputs": [
    {
     "name": "stdout",
     "output_type": "stream",
     "text": [
      "     1\tbuster/sid\n"
     ]
    }
   ],
   "source": [
    "cat -n /etc/debian_version"
   ]
  },
  {
   "attachments": {},
   "cell_type": "markdown",
   "id": "cec457d3-11ab-432a-b77a-3e5c6ec35fc7",
   "metadata": {},
   "source": [
    "That's not very exciting with a file that has only one line.  So, here's the same command run on a file with multiple lines:"
   ]
  },
  {
   "cell_type": "code",
   "execution_count": 9,
   "id": "ca9df258-292e-48d6-834d-a77f0be9ea5e",
   "metadata": {},
   "outputs": [
    {
     "name": "stdout",
     "output_type": "stream",
     "text": [
      "     1\tNAME=\"Ubuntu\"\n",
      "     2\tVERSION=\"18.04.6 LTS (Bionic Beaver)\"\n",
      "     3\tID=ubuntu\n",
      "     4\tID_LIKE=debian\n",
      "     5\tPRETTY_NAME=\"Ubuntu 18.04.6 LTS\"\n",
      "     6\tVERSION_ID=\"18.04\"\n",
      "     7\tHOME_URL=\"https://www.ubuntu.com/\"\n",
      "     8\tSUPPORT_URL=\"https://help.ubuntu.com/\"\n",
      "     9\tBUG_REPORT_URL=\"https://bugs.launchpad.net/ubuntu/\"\n",
      "    10\tPRIVACY_POLICY_URL=\"https://www.ubuntu.com/legal/terms-and-policies/privacy-policy\"\n",
      "    11\tVERSION_CODENAME=bionic\n",
      "    12\tUBUNTU_CODENAME=bionic\n"
     ]
    }
   ],
   "source": [
    "cat -n /etc/os-release"
   ]
  },
  {
   "attachments": {},
   "cell_type": "markdown",
   "id": "e4585de2-ab7d-4bd4-a80d-e44a6cd4b4a7",
   "metadata": {},
   "source": [
    "In this case, `cat` reads each character until it gets to the end of the line, prints the line number followed by the line, then repeats the process until it gets to the end of the file."
   ]
  },
  {
   "attachments": {},
   "cell_type": "markdown",
   "id": "06e3416c-8a47-4b57-8180-d1427e737131",
   "metadata": {},
   "source": [
    "Many other commands use this pattern of reading a line, operate on it, then repeat.  Let's look at a few:\n",
    "- head\n",
    "- tail\n",
    "- cut\n",
    "- wc\n",
    "- file\n",
    "\n",
    "BTW, for all these commands, much more details on options and how they work can be found using a Google search for \"unix man \" followed by the command.  For example, \"[unix man head](https://www.google.com/search?q=unix+man+head)\""
   ]
  },
  {
   "cell_type": "code",
   "execution_count": 10,
   "id": "2084f352-54b9-469c-8548-1b60db8d3127",
   "metadata": {},
   "outputs": [
    {
     "name": "stdout",
     "output_type": "stream",
     "text": [
      "A\n",
      "A'asia\n",
      "A's\n",
      "AATech\n"
     ]
    }
   ],
   "source": [
    "# head displays the first 10 lines of a file if not given any options\n",
    "## you can specify more or fewer lines by giving it the option -n X, where X is a whole number\n",
    "## here we get the first 4 words from a dictionary file\n",
    "head -n 4 /usr/share/dict/words"
   ]
  },
  {
   "cell_type": "code",
   "execution_count": 11,
   "id": "4d50c226-554f-47c6-ae1b-17d880ef503a",
   "metadata": {},
   "outputs": [
    {
     "name": "stdout",
     "output_type": "stream",
     "text": [
      "évolué\n",
      "évolués\n",
      "événement\n",
      "événements\n"
     ]
    }
   ],
   "source": [
    "# tail displays the last 10 lines of a file if not given any options\n",
    "## you can specify more or fewer lines by giving it the option -n X, where X is a whole number\n",
    "## here we get the last 4 words from a dictionary file\n",
    "tail -n 4 /usr/share/dict/words"
   ]
  },
  {
   "cell_type": "code",
   "execution_count": 12,
   "id": "27d7c861-9550-4150-8358-2bba08af6c1e",
   "metadata": {},
   "outputs": [
    {
     "name": "stdout",
     "output_type": "stream",
     "text": [
      "buster/sid\n",
      "buster\n"
     ]
    }
   ],
   "source": [
    "# cut displays the character range specified by the -c option or a field range specified by the -f option\n",
    "## range is specified using 1-based counting\n",
    "## here we get the first 6 characters from the /etc/debian_version file.\n",
    "cat /etc/debian_version\n",
    "cut -c 1-6 /etc/debian_version"
   ]
  },
  {
   "cell_type": "code",
   "execution_count": 13,
   "id": "40c8f82f-84cb-4f37-990a-ea110b8aa066",
   "metadata": {},
   "outputs": [
    {
     "name": "stdout",
     "output_type": "stream",
     "text": [
      "/sid\n"
     ]
    }
   ],
   "source": [
    "## here we get characters 7-10 from the /etc/debian_version file.\n",
    "cut -c 7-10 /etc/debian_version"
   ]
  },
  {
   "cell_type": "code",
   "execution_count": 15,
   "id": "d9c72bbe-5e58-4cef-8fd5-386c3a3330da",
   "metadata": {},
   "outputs": [
    {
     "name": "stdout",
     "output_type": "stream",
     "text": [
      " 654749  654749 6876726 /usr/share/dict/words\n"
     ]
    }
   ],
   "source": [
    "# wc gives a summary of how many lines, words, and characters there are in a file\n",
    "wc /usr/share/dict/words"
   ]
  },
  {
   "cell_type": "code",
   "execution_count": 17,
   "id": "8a2488ae-86f0-4e01-b09a-3b2d260bbc76",
   "metadata": {},
   "outputs": [
    {
     "name": "stdout",
     "output_type": "stream",
     "text": [
      "/usr/share/dict/words: symbolic link to /etc/dictionaries-common/words\n",
      "/etc/dictionaries-common/words: symbolic link to /usr/share/dict/american-english-insane\n",
      "/usr/share/dict/american-english-insane: UTF-8 Unicode text\n",
      "/etc/debian_version: ASCII text\n",
      "/bin/grep: ELF 64-bit LSB shared object, x86-64, version 1 (SYSV), dynamically linked, interpreter /lib64/ld-linux-x86-64.so.2, for GNU/Linux 3.2.0, BuildID[sha1]=4806f6fd2346800fffcaeedb877623aa54cf94e8, stripped\n"
     ]
    }
   ],
   "source": [
    "# file gives you a reasonable guess as to what type of file it is.\n",
    "file /usr/share/dict/words\n",
    "file /etc/dictionaries-common/words\n",
    "file /usr/share/dict/american-english-insane\n",
    "file /etc/debian_version\n",
    "file /bin/grep"
   ]
  },
  {
   "attachments": {},
   "cell_type": "markdown",
   "id": "c3a229bb-f4f1-4be6-9396-31fed044a14a",
   "metadata": {},
   "source": [
    "The caveat is that these programs only work if the file is organized as a \"text\" file.  That is, the bytes are interpreted as alpha-numeric characters with line endings.  When some other convention is used, then the file is termed a \"binary\" file. This can lead to some confusion as all files are \"binary\".  The difference is in how the bytes are organized in the file and interpreted by some program."
   ]
  },
  {
   "attachments": {},
   "cell_type": "markdown",
   "id": "aabb448a-ea96-4695-af32-253c014e491f",
   "metadata": {},
   "source": [
    "## Creating a file"
   ]
  },
  {
   "attachments": {},
   "cell_type": "markdown",
   "id": "64af9c6f-337e-4f59-9f88-0ff590d219f6",
   "metadata": {},
   "source": [
    "The previous examples used pre-existing files.  Now we will use some commands that will create data and then put them into a file. We will explore the following commands:\n",
    "- date\n",
    "- echo\n",
    "- seq\n",
    "- curl"
   ]
  },
  {
   "cell_type": "code",
   "execution_count": 18,
   "id": "753e43cc-3952-46ac-ac22-45107b37da8d",
   "metadata": {},
   "outputs": [
    {
     "name": "stdout",
     "output_type": "stream",
     "text": [
      "Wed Oct  5 22:32:46 UTC 2022\n"
     ]
    }
   ],
   "source": [
    "# date prints the date\n",
    "date"
   ]
  },
  {
   "attachments": {},
   "cell_type": "markdown",
   "id": "cffb8698-8f1e-496f-b57d-3ac0147210fd",
   "metadata": {},
   "source": [
    "We can tell a command to put the data into a file by redirecting its output.  That is done using the '>' symbol.  For example, to save the output from the `date` to a file called `date.txt`:"
   ]
  },
  {
   "cell_type": "code",
   "execution_count": 19,
   "id": "b3ded578-91c7-4cb2-aa52-280b7de1ee37",
   "metadata": {},
   "outputs": [
    {
     "name": "stdout",
     "output_type": "stream",
     "text": [
      "data-structures.files.folders.ipynb\n",
      "env.rc\n",
      "README.md\n"
     ]
    }
   ],
   "source": [
    "# show that date.txt does not exist\n",
    "ls -F"
   ]
  },
  {
   "cell_type": "code",
   "execution_count": 20,
   "id": "886f0b2a-89d0-4304-b987-80e6b94e104f",
   "metadata": {},
   "outputs": [],
   "source": [
    "# generate a date and redirect the output to the date.txt file\n",
    "date > date.txt\n"
   ]
  },
  {
   "cell_type": "code",
   "execution_count": 21,
   "id": "2c8cdc09-995f-428c-a7cf-103d37219c9a",
   "metadata": {},
   "outputs": [
    {
     "name": "stdout",
     "output_type": "stream",
     "text": [
      "data-structures.files.folders.ipynb\n",
      "date.txt\n",
      "env.rc\n",
      "README.md\n"
     ]
    }
   ],
   "source": [
    "# show that date.txt now does exist\n",
    "ls -F"
   ]
  },
  {
   "cell_type": "code",
   "execution_count": 22,
   "id": "e8b7bd05-9fd5-4a19-8c11-511b98f69d14",
   "metadata": {},
   "outputs": [
    {
     "name": "stdout",
     "output_type": "stream",
     "text": [
      "     1\tWed Oct  5 22:33:19 UTC 2022\n"
     ]
    }
   ],
   "source": [
    "# display the contents of the date.txt file with a line number\n",
    "cat -n date.txt"
   ]
  },
  {
   "cell_type": "code",
   "execution_count": 23,
   "id": "75e7e077-7264-4ba9-be3e-6a826c8c5367",
   "metadata": {},
   "outputs": [
    {
     "name": "stdout",
     "output_type": "stream",
     "text": [
      "Hello, world!\n"
     ]
    }
   ],
   "source": [
    "# echo displays the provided text\n",
    "echo 'Hello, world!'"
   ]
  },
  {
   "cell_type": "code",
   "execution_count": 24,
   "id": "55df6a97-9eb5-4376-a78f-979828e40994",
   "metadata": {},
   "outputs": [],
   "source": [
    "# to save output to a file\n",
    "echo 'Hello, world!' > hw.txt"
   ]
  },
  {
   "cell_type": "code",
   "execution_count": 25,
   "id": "d1d5551f-72ec-46d9-9b42-59588bcf0ac2",
   "metadata": {},
   "outputs": [
    {
     "name": "stdout",
     "output_type": "stream",
     "text": [
      "     1\tHello, world!\n"
     ]
    }
   ],
   "source": [
    "# display the contents\n",
    "cat -n hw.txt"
   ]
  },
  {
   "cell_type": "code",
   "execution_count": 26,
   "id": "b4e69e60-56ff-4c13-9b02-4fb844ae14a0",
   "metadata": {},
   "outputs": [
    {
     "name": "stdout",
     "output_type": "stream",
     "text": [
      "     1\t1\n",
      "     2\t2\n",
      "     3\t3\n",
      "     4\t4\n",
      "     5\t5\n",
      "     6\t6\n",
      "     7\t7\n",
      "     8\t8\n",
      "     9\t9\n",
      "    10\t10\n"
     ]
    }
   ],
   "source": [
    "# seq generates a range of numbers\n",
    "seq 1 10 > seq.txt\n",
    "cat -n seq.txt"
   ]
  },
  {
   "cell_type": "code",
   "execution_count": 27,
   "id": "0fcdb3bb-6315-4b46-b98c-f9e0cb494161",
   "metadata": {},
   "outputs": [
    {
     "name": "stdout",
     "output_type": "stream",
     "text": [
      "BEGIN_FILE\n",
      "FORMAT_VERSION,2\n",
      "AGENCY,0017\n",
      "FILENAME,042222.0017\n",
      "DATA_VERSION,201904222215\n",
      "TZONE,MST,7\n",
      "BEGIN_GROUP\n",
      "VARIABLE,CO\n",
      "DATA_TYPE,POINT\n",
      "MEASUREMENT_TYPE,SAMPLE\n"
     ]
    }
   ],
   "source": [
    "# curl GETs a webpage\n",
    "## here it downloads a file containing air quality data from the city of Albuquerque\n",
    "curl -s http://data.cabq.gov/airquality/aqindex/history/042222.0017 > abq.air-quality.dat\n",
    "head abq.air-quality.dat\n"
   ]
  },
  {
   "attachments": {},
   "cell_type": "markdown",
   "id": "ec2d2a12-39cc-4ba4-993d-8f6b7df21e32",
   "metadata": {},
   "source": [
    "## Command pipeline"
   ]
  },
  {
   "attachments": {},
   "cell_type": "markdown",
   "id": "33eebd68-b71a-4d25-8422-7ab4dca25043",
   "metadata": {},
   "source": [
    "Much like one can do method chaining in Python, Ruby, JavaScript, and other languages, commands can be piped together using a vertical bar '|'.  In this way, the output of one command can be piped as input into the next command.  For example:"
   ]
  },
  {
   "cell_type": "code",
   "execution_count": 28,
   "id": "bed65efc-89d2-4f83-8664-adffcfeb5475",
   "metadata": {},
   "outputs": [
    {
     "name": "stdout",
     "output_type": "stream",
     "text": [
      "     1\tBEGIN_FILE\n",
      "     2\tFORMAT_VERSION,2\n",
      "     3\tAGENCY,0017\n",
      "     4\tFILENAME,042222.0017\n",
      "     5\tDATA_VERSION,201904222215\n",
      "     6\tTZONE,MST,7\n",
      "     7\tBEGIN_GROUP\n",
      "     8\tVARIABLE,CO\n",
      "     9\tDATA_TYPE,POINT\n",
      "    10\tMEASUREMENT_TYPE,SAMPLE\n"
     ]
    }
   ],
   "source": [
    "# here the first ten lines of a file are numbered\n",
    "head abq.air-quality.dat | cat -n"
   ]
  },
  {
   "cell_type": "code",
   "execution_count": 29,
   "id": "e2134ddb-4abd-4719-b100-1ddb8c1ad09b",
   "metadata": {},
   "outputs": [
    {
     "name": "stdout",
     "output_type": "stream",
     "text": [
      "     1\tBEGIN_FILE\n",
      "     2\tFORMAT_VERSION\n",
      "     3\tAGENCY\n",
      "     4\tFILENAME\n",
      "     5\tDATA_VERSION\n",
      "     6\tTZONE\n",
      "     7\tBEGIN_GROUP\n",
      "     8\tVARIABLE\n",
      "     9\tDATA_TYPE\n",
      "    10\tMEASUREMENT_TYPE\n"
     ]
    }
   ],
   "source": [
    "# here only the first field is displayed from the first ten lines and then numbered\n",
    "head abq.air-quality.dat | cut -d, -f 1 | cat -n"
   ]
  },
  {
   "cell_type": "code",
   "execution_count": 31,
   "id": "d9358743-96cc-4f5e-8193-42ec393b50d3",
   "metadata": {},
   "outputs": [
    {
     "name": "stdout",
     "output_type": "stream",
     "text": [
      "    73\tEND_DTG,201904222159\n",
      "   145\tSTART_REF,0\n",
      "   169\tNorth Valley        ,350011013,10.2,9,8.1,7,6.3,5.7,8.4,13.6,17.9,20.6,20.6,20.3,21.4,21,20.5,20.3,19.5,17.1,11.7,11.1,10,10.1\n",
      "   243\tSTATIONS,1\n",
      "   124\tSTART_DTG,201904220000\n",
      "   211\tEND_DATA\n",
      "   202\tINTERVAL,60\n",
      "   196\tVARIABLE,WDV\n",
      "   216\tMEASUREMENT_TYPE,SAMPLE\n",
      "    90\tEND_GROUP\n"
     ]
    }
   ],
   "source": [
    "cat -n abq.air-quality.dat | shuf -n 10"
   ]
  },
  {
   "cell_type": "code",
   "execution_count": 33,
   "id": "2563e66f-0724-4a9b-9a07-b9fe1eb23593",
   "metadata": {},
   "outputs": [
    {
     "name": "stdout",
     "output_type": "stream",
     "text": [
      "     1\tHerizes\n",
      "     2\tTobago's\n",
      "     3\tCarnaria\n",
      "     4\tcounterpic\n",
      "     5\tmommuck\n",
      "     6\tchippewyan\n",
      "     7\tpseudocand\n",
      "     8\tChignik\n",
      "     9\tsubcommend\n",
      "    10\tboccia\n"
     ]
    }
   ],
   "source": [
    "shuf -n 100 /usr/share/dict/words | cut -c1-10 | head | cat -n\n"
   ]
  },
  {
   "cell_type": "code",
   "execution_count": 34,
   "id": "0070a2a0-90ba-4ef4-816f-40b37476c52e",
   "metadata": {},
   "outputs": [
    {
     "name": "stdout",
     "output_type": "stream",
     "text": [
      "total 424\n",
      "drwxr-xr-x 1 jovyan jovyan   4096 Oct  5 22:41  ./\n",
      "drwxr-xr-x 1 jovyan jovyan   4096 Oct  5 22:11  ../\n",
      "-rw-r--r-- 1 jovyan jovyan 349196 Oct  5 22:41 '4b1 - Naive Bayes.pdf'\n",
      "-rw-r--r-- 1 jovyan jovyan   8508 Oct  5 22:34  abq.air-quality.dat\n",
      "-rw-r--r-- 1 jovyan jovyan  25869 Oct  5 22:38  data-structures.files.folders.ipynb\n",
      "-rw-r--r-- 1 jovyan jovyan     29 Oct  5 22:33  date.txt\n",
      "-rw-r--r-- 1 jovyan jovyan    324 Oct  5 21:59  env.rc\n",
      "-rw-r--r-- 1 jovyan jovyan     14 Oct  5 22:33  hw.txt\n",
      "drwxr-xr-x 2 jovyan jovyan   4096 Oct  5 22:06  .ipynb_checkpoints/\n",
      "-rw-r--r-- 1 jovyan jovyan    231 Oct  5 21:59  README.md\n",
      "-rw-r--r-- 1 jovyan jovyan     21 Oct  5 22:34  seq.txt\n"
     ]
    }
   ],
   "source": [
    "ls -la"
   ]
  },
  {
   "cell_type": "code",
   "execution_count": 35,
   "id": "63e536a6-b2c4-4aca-a08e-11b363abed09",
   "metadata": {},
   "outputs": [
    {
     "name": "stdout",
     "output_type": "stream",
     "text": [
      "4b1 - Naive Bayes.pdf: PDF document, version 1.4\n"
     ]
    }
   ],
   "source": [
    "file \"4b1 - Naive Bayes.pdf\""
   ]
  },
  {
   "cell_type": "code",
   "execution_count": null,
   "id": "ac7163f0-a693-48fe-bdc2-92cef029f40a",
   "metadata": {},
   "outputs": [],
   "source": []
  }
 ],
 "metadata": {
  "kernelspec": {
   "display_name": "Bash",
   "language": "bash",
   "name": "bash"
  },
  "language_info": {
   "codemirror_mode": "shell",
   "file_extension": ".sh",
   "mimetype": "text/x-sh",
   "name": "bash"
  }
 },
 "nbformat": 4,
 "nbformat_minor": 5
}
