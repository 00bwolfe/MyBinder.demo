{
 "cells": [
  {
   "cell_type": "markdown",
   "id": "829bb40e-0f88-4ada-b158-99f57e80e1b0",
   "metadata": {},
   "source": [
    "# Linux shell commands using Bash"
   ]
  },
  {
   "cell_type": "code",
   "execution_count": null,
   "id": "27e94cf1-3df4-447d-8081-1ba0072fb7bf",
   "metadata": {
    "tags": []
   },
   "outputs": [],
   "source": [
    "# Two numbers should be produced and they should be identical\n",
    "commands=\"tree find ls xxd cat head tail wc file fgrep cut seq shuf sed awk mv mkdir cp rm rmdir\"\n",
    "<<< ${commands} tr ' ' '\\n' | wc -l\n",
    "which ${commands} | wc -l"
   ]
  },
  {
   "cell_type": "markdown",
   "id": "e43bc442-f207-4e29-a184-77f46fc22056",
   "metadata": {},
   "source": [
    "## Files and the Filesystem"
   ]
  },
  {
   "cell_type": "markdown",
   "id": "a1ce71d9-93e6-4553-86dc-a1f3d6012046",
   "metadata": {
    "tags": []
   },
   "source": [
    "Computer operating systems use a number of different data structures in order to operate.  We will start exploring two of those data structures: the filesystem and files.\n",
    "\n",
    "Using [the CRUD model]( https://en.wikipedia.org/wiki/Create,_read,_update_and_delete ), we will start with the filesystem then later we'll explore files.  And we are going to start by using two \"Read\" commands: `tree` and `find`.\n"
   ]
  },
  {
   "cell_type": "markdown",
   "id": "40ca0f63-499f-4a29-a42d-cdd757fae673",
   "metadata": {
    "tags": []
   },
   "source": [
    "### tree and find commands"
   ]
  },
  {
   "cell_type": "markdown",
   "id": "740237c5-f89f-4965-819a-8bfb59f6d186",
   "metadata": {
    "tags": []
   },
   "source": [
    "The filesystem is a hierarchy of files and directories ( aka folders ).\n",
    "Folders can contain both files and folders ( called subfolders or subdirectories ).\n",
    "The commands `tree` and `find` allow us to traverse ( aka descend or recurse ) this hierarchy.\n",
    "\n",
    "> Note: As a shorthand, when I write `file`, I will often mean both files and folders.\n",
    "\n",
    "Starting from a specified location, both commands will show all the files that are \"lower\" in the hierarchy."
   ]
  },
  {
   "cell_type": "markdown",
   "id": "241bb94d-a6a6-418b-9a22-44a070e50884",
   "metadata": {},
   "source": [
    "In these two examples, I am specifying the starting location as `/etc/apt`."
   ]
  },
  {
   "cell_type": "code",
   "execution_count": null,
   "id": "f843d73f-48e1-4176-8cc4-de4014fd97f8",
   "metadata": {
    "tags": []
   },
   "outputs": [],
   "source": [
    "tree /etc/apt"
   ]
  },
  {
   "cell_type": "markdown",
   "id": "19585516-385c-4fd4-b348-662e53e13c96",
   "metadata": {},
   "source": [
    "Those are all the files that are \"below\" `/etc/apt`.\n",
    "\n",
    "The `tree` command provides a nice, graphic representation of the hierarchy, \n",
    "with lower levels indented from upper levels and connected by lines.\n",
    "We can distinguish between files and folders by using the `-F` flag ( aka option ), which adds a `/` to the end of folders.  "
   ]
  },
  {
   "cell_type": "code",
   "execution_count": null,
   "id": "ff927462-2160-49b3-bca8-b76e9bbce38c",
   "metadata": {
    "tags": []
   },
   "outputs": [],
   "source": [
    "tree -F /etc/apt"
   ]
  },
  {
   "cell_type": "markdown",
   "id": "f135dee1-f689-444d-8f09-dd451eb668f3",
   "metadata": {},
   "source": [
    "Notice that all the folders end with a `/`, but files do not."
   ]
  },
  {
   "cell_type": "markdown",
   "id": "5667a7ff-576c-4643-a212-f163ad7bfbe2",
   "metadata": {},
   "source": [
    "In contrast to the `tree` command, the `find` command provides a **listing** of all the files in the heirarchy. "
   ]
  },
  {
   "cell_type": "code",
   "execution_count": null,
   "id": "b342b124-e8ef-432e-be5f-d44d9fce4c2f",
   "metadata": {
    "tags": []
   },
   "outputs": [],
   "source": [
    "find /etc/apt"
   ]
  },
  {
   "cell_type": "markdown",
   "id": "972527fc-b717-4758-9a01-8b0f8600a8bb",
   "metadata": {},
   "source": [
    "There's no easy equivalent option to `-F` with `find`.\n"
   ]
  },
  {
   "cell_type": "markdown",
   "id": "9415c46a-50e5-42a9-abec-dded4901758b",
   "metadata": {},
   "source": [
    "### paths"
   ]
  },
  {
   "cell_type": "markdown",
   "id": "091dad46-ade0-44d1-9b0c-1df61c316860",
   "metadata": {},
   "source": [
    "The `/etc/apt/` notation specifies what is known as a `path`, which is a sequence of folder names separated by the `/` character.  For example, we can go a level deeper by appending `trusted.gpg.d` to the path.\n"
   ]
  },
  {
   "cell_type": "code",
   "execution_count": null,
   "id": "b2b9b1a1-b285-4829-9700-41dce5248db8",
   "metadata": {
    "tags": []
   },
   "outputs": [],
   "source": [
    "tree -F /etc/apt/trusted.gpg.d"
   ]
  },
  {
   "cell_type": "markdown",
   "id": "4f1fa742-5b55-495a-81e4-d2d64fab85af",
   "metadata": {},
   "source": [
    "### ls command"
   ]
  },
  {
   "cell_type": "markdown",
   "id": "6613ae53-6f47-4327-a5bb-fee560be48ba",
   "metadata": {},
   "source": [
    "`tree` and `find` are not the only ways to traverse and display the filesystem hierarchy. \n",
    "`ls` is most commonly used to display the contents of a single folder.  And like `tree` it can use the `-F` option to append a `/` to folders."
   ]
  },
  {
   "cell_type": "code",
   "execution_count": null,
   "id": "35d82905-1d57-472e-b9f0-fa794d37eb1c",
   "metadata": {
    "tags": []
   },
   "outputs": [],
   "source": [
    "ls -F /etc/apt/"
   ]
  },
  {
   "cell_type": "markdown",
   "id": "41358860-fc42-42c5-bbce-6a7445abc8af",
   "metadata": {},
   "source": [
    "`ls` can also traverse the filesystem hierarchy, but I find the output a bit more challenging to interpret"
   ]
  },
  {
   "cell_type": "code",
   "execution_count": null,
   "id": "9b1aa19e-0c57-4e2e-8c1c-77a77afd705d",
   "metadata": {
    "tags": []
   },
   "outputs": [],
   "source": [
    "ls -FR /etc/apt/"
   ]
  },
  {
   "cell_type": "markdown",
   "id": "46fc9a26-5fff-4b2a-872e-9f805b088b2c",
   "metadata": {},
   "source": [
    "`ls` can not only provide us with a listing of the contents of a folder, that is, a list of the names of files and folders.  It can also display meta-data, that is, information about the files and folders such as permissions, ownership, membership, size, and dates, when combined with the `-l` option."
   ]
  },
  {
   "cell_type": "code",
   "execution_count": null,
   "id": "33371203-8009-4c75-be41-8f054bdd6fcc",
   "metadata": {},
   "outputs": [],
   "source": [
    "ls -Fl /etc/apt/"
   ]
  },
  {
   "cell_type": "markdown",
   "id": "e5df3462-01e2-448c-9ed2-8f35fe861519",
   "metadata": {},
   "source": [
    "To use this entry as an example:\n",
    "```\n",
    "-rw-r--r-- 1 root root 2765 Jan 26 08:32 sources.list\n",
    "```\n",
    "\n",
    "- `-rw-r--r--` are the permissions\n",
    "- `1` the reference count\n",
    "- `root` the owner\n",
    "- `root` the group membership\n",
    "- `2765` the size\n",
    "- `Jan 26` the date of last modification\n",
    "- `08:32` the time of last modification\n",
    "- `sources.list` the name of the file\n",
    "\n",
    "\n"
   ]
  },
  {
   "cell_type": "markdown",
   "id": "3ac14630-5c57-456a-b5f4-f30ac26f84ce",
   "metadata": {},
   "source": [
    "Within a folder there often \"hidden\" files and folders.  Files that begin with a dot ( \".\" ) are not displayed unless the `-a` option is used with `ls`."
   ]
  },
  {
   "cell_type": "code",
   "execution_count": null,
   "id": "8ef44732-f419-45fb-9bd7-1925ea31c79d",
   "metadata": {},
   "outputs": [],
   "source": [
    "ls -Fla /etc/apt/"
   ]
  },
  {
   "cell_type": "markdown",
   "id": "6ea18676-c714-41db-94d9-7bde89f15d48",
   "metadata": {},
   "source": [
    "Notice that we now see two additional folders: ./ and ../.  Those are actually \"pointer\" folders in that they point to the current folder ( ./ ) and to the parent folder ( ../ )."
   ]
  },
  {
   "cell_type": "markdown",
   "id": "2ed93ed8-40ea-4d02-a27f-740250dcbe66",
   "metadata": {},
   "source": [
    "There is much more to mention about the file system, in particular the remaing CRUD operations.  But we'll change our focus to files and return to the file system later."
   ]
  },
  {
   "cell_type": "markdown",
   "id": "ee29cfef-d3cc-44ad-9ee0-d31a717aeab5",
   "metadata": {},
   "source": [
    "## Files"
   ]
  },
  {
   "cell_type": "markdown",
   "id": "20db1428-4264-4d21-8b0d-58c02f3b4060",
   "metadata": {},
   "source": [
    "### File contents"
   ]
  },
  {
   "cell_type": "markdown",
   "id": "e50eec85-7db6-4192-8815-e9985228cffc",
   "metadata": {},
   "source": [
    "#### cat"
   ]
  },
  {
   "cell_type": "markdown",
   "id": "507fc79c-34ac-437c-8317-5d3f7be20a00",
   "metadata": {},
   "source": [
    "Just like `ls` displays the contents of a folder, `cat` displays the contents of a file ... with some interpretation.  We'll use the file ` /etc/debian_version` as an example."
   ]
  },
  {
   "cell_type": "code",
   "execution_count": null,
   "id": "e7277c28-63fd-4233-a879-7e936dbc3c1b",
   "metadata": {},
   "outputs": [],
   "source": [
    "cat /etc/debian_version"
   ]
  },
  {
   "cell_type": "markdown",
   "id": "5cd19534-8251-4fa5-af39-98049ec68153",
   "metadata": {},
   "source": [
    "#### xxd"
   ]
  },
  {
   "cell_type": "markdown",
   "id": "a7ff8a15-06bb-4890-8c70-aff2db5b4a5e",
   "metadata": {},
   "source": [
    "`cat` displays the characters that are in the file. But characters are not what is really stored on the filesystem.  Rather computers store everything as numbers, specifically 1's and 0's.  And we can display that using the `xxd` command."
   ]
  },
  {
   "cell_type": "code",
   "execution_count": null,
   "id": "69e249cc-e7e3-4e9d-9315-0c80ced5f105",
   "metadata": {
    "tags": []
   },
   "outputs": [],
   "source": [
    "xxd -b -g0 /etc/debian_version"
   ]
  },
  {
   "cell_type": "markdown",
   "id": "e5146c60-b721-44cc-8a22-de76df8cd371",
   "metadata": {},
   "source": [
    "We see three fields.  The field on the left is the address offset, ending in a colon ( : ). Then we see a series of 1's and 0's.  Those are called bits from \"binary digits.\"  Those bits are the actual content of the file. On the right, we see the character interpretation of those 1's and 0's.\n",
    "\n",
    "Here's the same output but where the bits have been put into groups of 8 called bytes."
   ]
  },
  {
   "cell_type": "code",
   "execution_count": null,
   "id": "9008a90c",
   "metadata": {},
   "outputs": [],
   "source": [
    "xxd -b -g1 /etc/debian_version"
   ]
  },
  {
   "cell_type": "markdown",
   "id": "9c250130-eeb5-47f6-b2c1-b43108615fa1",
   "metadata": {},
   "source": [
    "On the far right of the output, we see that the first group of 8 bits ( the first byte ) gets interpreted as the letters 'b', the second as letter 'u', etc.  Also notice that the last byte '00001010' is being displayed as a dot ( '.' ). That byte is actually a non-printable character, one of many.  This one happens to be the end-of-line ( aka newline or '\\n' ) character, which we will encounter more of later on.  Other non-printable characters frequently encountered include tab ( '\\t' ) , carriage return ( '\\r' ), and null ( '\\0' )."
   ]
  },
  {
   "cell_type": "markdown",
   "id": "8b5c0d8f-e96f-4242-ad1b-43986e0f3317",
   "metadata": {},
   "source": [
    "As an alternative to binary, we can display the bytes in a file in hexadecimal by using the `-u` option."
   ]
  },
  {
   "cell_type": "code",
   "execution_count": null,
   "id": "a0eed900",
   "metadata": {},
   "outputs": [],
   "source": [
    "xxd -u -g1 /etc/debian_version"
   ]
  },
  {
   "cell_type": "markdown",
   "id": "6a936a1e-b9d1-48ff-aba9-fa24c1d020ea",
   "metadata": {},
   "source": [
    "We see that hex 62 maps to 'b', hex 75 to 'u', etc.\n",
    "\n",
    "`od` is another tool to display the contents of a file."
   ]
  },
  {
   "cell_type": "code",
   "execution_count": null,
   "id": "58314cff-2c00-4513-9aa7-c51fd57f35fc",
   "metadata": {
    "tags": []
   },
   "outputs": [],
   "source": [
    "od -t x1 -c /etc/debian_version"
   ]
  },
  {
   "cell_type": "markdown",
   "id": "8f58719f-6721-47a5-aa70-736956a70ad4",
   "metadata": {},
   "source": [
    "### Lines"
   ]
  },
  {
   "cell_type": "markdown",
   "id": "fbaa9bdc-b444-4ab5-9b63-1f29d103aaa8",
   "metadata": {},
   "source": [
    "The interpretation of the bytes in a file is left to programs.  \n",
    "\n",
    "\n",
    "\n",
    "\n",
    "One way to interpret a file stream is as a collection of \"lines\" with each line being a collection of \"text\" characters.  Many files use this approach, e.g. CSV, YAML, HTML.  For these \"text\" files, a program can read the file one character at a time until it gets to an \"end-of-line\" character, then it can operate on that line, then read the next line.  `cat` does this with every line in a file. For example, we can have `cat` prefix each line with the line number:"
   ]
  },
  {
   "cell_type": "code",
   "execution_count": null,
   "id": "b1de0d5e-9c3f-44bb-a07d-17d043f393ae",
   "metadata": {},
   "outputs": [],
   "source": [
    "cat -n /etc/debian_version"
   ]
  },
  {
   "cell_type": "markdown",
   "id": "f561ce75-ff13-4521-a4d4-a95fbc4a6edd",
   "metadata": {},
   "source": [
    "That's not very exciting with a file that has only one line.  So, here's the same command run on a file with multiple lines:"
   ]
  },
  {
   "cell_type": "code",
   "execution_count": null,
   "id": "5f8b74b4-5e19-43d6-834f-128aa9a7a9cc",
   "metadata": {
    "tags": []
   },
   "outputs": [],
   "source": [
    "cat -n /etc/os-release"
   ]
  },
  {
   "cell_type": "markdown",
   "id": "e4e82965-a849-4835-9537-50b1d5017b15",
   "metadata": {},
   "source": [
    "In this case, `cat` reads each character until it gets to the end of the line, prints the line number followed by the line, then repeats the process until it gets to the end of the file."
   ]
  },
  {
   "cell_type": "markdown",
   "id": "b170e651-214f-4d5b-944a-71496a33cc94",
   "metadata": {},
   "source": [
    "Many other commands use this pattern of reading a line, operate on it, then repeat.  Let's look at a few:\n",
    "- head\n",
    "- tail\n",
    "- cut\n",
    "- wc\n",
    "- file\n",
    "\n",
    "BTW, for all these commands, much more details on options and how they work can be found using a Google search for \"unix man \" followed by the command.  For example, \"[unix man head](https://www.google.com/search?q=unix+man+head)\""
   ]
  },
  {
   "cell_type": "code",
   "execution_count": null,
   "id": "6723319e-784b-4c2e-935b-185aa1b15a83",
   "metadata": {
    "tags": []
   },
   "outputs": [],
   "source": [
    "# head displays the first 10 lines of a file if not given any options\n",
    "## you can specify more or fewer lines by giving it the option -n X, where X is a whole number\n",
    "head -n 4 /etc/os-release"
   ]
  },
  {
   "cell_type": "code",
   "execution_count": null,
   "id": "675e0d4a-2c6f-4aae-89ea-134a47e5f1c5",
   "metadata": {
    "tags": []
   },
   "outputs": [],
   "source": [
    "# tail displays the last 10 lines of a file if not given any options\n",
    "## you can specify more or fewer lines by giving it the option -n X, where X is a whole number\n",
    "tail -n 4 /etc/os-release"
   ]
  },
  {
   "cell_type": "code",
   "execution_count": null,
   "id": "f92f6747-a08c-4370-9b00-a94575568ea5",
   "metadata": {},
   "outputs": [],
   "source": [
    "# cut displays the character range specified by the -c option or a field range specified by the -f option\n",
    "## range is specified using 1-based counting\n",
    "## here we get the first 6 characters from the /etc/debian_version file.\n",
    "cat /etc/debian_version\n",
    "cut -c 1-6 /etc/debian_version"
   ]
  },
  {
   "cell_type": "code",
   "execution_count": null,
   "id": "b6efdfd0-e2af-4f82-b3dc-33ff4f0524a5",
   "metadata": {},
   "outputs": [],
   "source": [
    "## here we get characters 7-10 from the /etc/debian_version file.\n",
    "cut -c 7-10 /etc/debian_version"
   ]
  },
  {
   "cell_type": "code",
   "execution_count": null,
   "id": "c8b2a6bc-a831-4c2f-a9d2-efaf5b361ff0",
   "metadata": {
    "tags": []
   },
   "outputs": [],
   "source": [
    "# wc gives a summary of how many lines, words, and characters there are in a file\n",
    "wc /etc/os-release"
   ]
  },
  {
   "cell_type": "code",
   "execution_count": null,
   "id": "aff900df-ff08-4431-b75b-3cf9fb0d0d62",
   "metadata": {
    "tags": []
   },
   "outputs": [],
   "source": [
    "# file gives you a reasonable guess as to what type of file it is.\n",
    "file /etc/debian_version\n",
    "file /etc/os-release\n",
    "file /bin/grep"
   ]
  },
  {
   "cell_type": "markdown",
   "id": "49c2eff6-9f57-4d7b-840d-6dfa41a4150e",
   "metadata": {},
   "source": [
    "The caveat is that these programs only work if the file is organized as a \"text\" file.  That is, the bytes are interpreted as alpha-numeric characters with line endings.  When some other convention is used, then the file is termed a \"binary\" file. This can lead to some confusion as all files are \"binary\".  The difference is in how the bytes are organized in the file and interpreted by some program."
   ]
  },
  {
   "cell_type": "markdown",
   "id": "855f9093-719d-4b42-91ea-d8c298b8b47c",
   "metadata": {},
   "source": [
    "## Creating a file"
   ]
  },
  {
   "cell_type": "markdown",
   "id": "b0af490e-f745-40d2-95c4-3e500cd44c59",
   "metadata": {},
   "source": [
    "The previous examples used pre-existing files.  Now we will use some commands that will create data and then put them into a file. We will explore the following commands:\n",
    "- date\n",
    "- echo\n",
    "- seq\n",
    "- curl"
   ]
  },
  {
   "cell_type": "code",
   "execution_count": null,
   "id": "16de5bdb-45d2-4462-be4f-5d2cbf3d6f3b",
   "metadata": {
    "tags": []
   },
   "outputs": [],
   "source": [
    "# date prints the date\n",
    "date"
   ]
  },
  {
   "cell_type": "markdown",
   "id": "4d9ab4eb-b98c-458f-abf6-152af4eaada4",
   "metadata": {},
   "source": [
    "We can tell a command to put the data into a file by redirecting its output.  That is done using the '>' symbol.  For example, to save the output from the `date` to a file called `date.txt`:"
   ]
  },
  {
   "cell_type": "code",
   "execution_count": null,
   "id": "414ed914-9cd1-443e-8d72-6299997dbd12",
   "metadata": {
    "tags": []
   },
   "outputs": [],
   "source": [
    "# show that date.txt does not exist\n",
    "ls -F"
   ]
  },
  {
   "cell_type": "code",
   "execution_count": null,
   "id": "7a159ae3-bd7d-449b-8eb9-4f015346c435",
   "metadata": {
    "tags": []
   },
   "outputs": [],
   "source": [
    "# generate a date and redirect the output to the date.txt file\n",
    "date > date.txt\n"
   ]
  },
  {
   "cell_type": "code",
   "execution_count": null,
   "id": "452e1d4e-346e-48ff-bf0d-eaffb3919475",
   "metadata": {
    "tags": []
   },
   "outputs": [],
   "source": [
    "# show that date.txt now does exist\n",
    "ls -F"
   ]
  },
  {
   "cell_type": "code",
   "execution_count": null,
   "id": "850b9530-b120-4a4e-8944-7dd5ab7d2e7c",
   "metadata": {
    "tags": []
   },
   "outputs": [],
   "source": [
    "# display the contents of the date.txt file with a line number\n",
    "cat -n date.txt"
   ]
  },
  {
   "cell_type": "code",
   "execution_count": null,
   "id": "560ac9d1-fed9-4650-9016-5da2d1649158",
   "metadata": {
    "tags": []
   },
   "outputs": [],
   "source": [
    "# echo displays the provided text\n",
    "echo 'Hello, world!'"
   ]
  },
  {
   "cell_type": "code",
   "execution_count": null,
   "id": "8c839e89-aa1d-4da0-9503-9d7cd1e6af89",
   "metadata": {
    "tags": []
   },
   "outputs": [],
   "source": [
    "# to save output to a file\n",
    "echo 'Hello, world!' > hw.txt"
   ]
  },
  {
   "cell_type": "code",
   "execution_count": null,
   "id": "474cff9c-4d50-40d8-ac5a-dfee7f179312",
   "metadata": {
    "tags": []
   },
   "outputs": [],
   "source": [
    "# display the contents\n",
    "cat -n hw.txt"
   ]
  },
  {
   "cell_type": "code",
   "execution_count": null,
   "id": "a7edfc84-91e6-420e-b53c-8aaa7045d8aa",
   "metadata": {
    "tags": []
   },
   "outputs": [],
   "source": [
    "# seq generates a range of numbers\n",
    "seq 1 10 > seq.txt\n",
    "cat -n seq.txt"
   ]
  },
  {
   "cell_type": "code",
   "execution_count": null,
   "id": "cf830fc7-fcd9-42e4-9253-e31d2cf8a814",
   "metadata": {
    "tags": []
   },
   "outputs": [],
   "source": [
    "# curl GETs a webpage\n",
    "## curl downloads a file containing air quality data from the city of Albuquerque\n",
    "curl -s http://data.cabq.gov/airquality/aqindex/history/042222.0017 > abq.air-quality.dat\n",
    "wc abq.air-quality.dat\n",
    "head abq.air-quality.dat\n"
   ]
  },
  {
   "cell_type": "markdown",
   "id": "d660f353-06da-441c-9013-7a9ad30903eb",
   "metadata": {},
   "source": [
    "## Command pipeline"
   ]
  },
  {
   "cell_type": "markdown",
   "id": "c4d6b16b-20cf-4269-8508-7e321b5337e0",
   "metadata": {},
   "source": [
    "Much like one can do method chaining in Python, Ruby, JavaScript, and other languages, commands can be piped together using a vertical bar '|'.  In this way, the output of one command can be piped as input into the next command.  For example:"
   ]
  },
  {
   "cell_type": "code",
   "execution_count": null,
   "id": "80e5c802-f77f-425b-b152-06cb5d90c013",
   "metadata": {
    "tags": []
   },
   "outputs": [],
   "source": [
    "# here the first ten lines of a file are numbered\n",
    "head abq.air-quality.dat | cat -n"
   ]
  },
  {
   "cell_type": "code",
   "execution_count": null,
   "id": "25350635-2e49-4051-8949-514f3d940eae",
   "metadata": {
    "tags": []
   },
   "outputs": [],
   "source": [
    "# here only the first field is displayed from the first ten lines and then numbered\n",
    "head abq.air-quality.dat | cut -d, -f 1 | cat -n"
   ]
  },
  {
   "cell_type": "code",
   "execution_count": null,
   "id": "bfa33438-f9c2-405a-b7f4-c7897a436e73",
   "metadata": {
    "tags": []
   },
   "outputs": [],
   "source": [
    "cat -n abq.air-quality.dat | shuf -n 10"
   ]
  },
  {
   "cell_type": "code",
   "execution_count": null,
   "id": "0db75f46-822c-4ff0-98df-6c4a37cfd1ae",
   "metadata": {
    "tags": []
   },
   "outputs": [],
   "source": [
    "# randomly select 100 words \n",
    "shuf -n 100 /usr/share/dict/words | cut -c1-10 | head | cat -n\n"
   ]
  },
  {
   "cell_type": "code",
   "execution_count": null,
   "id": "43c08bb5-ad78-47b8-8f4d-5ab4bde53aea",
   "metadata": {
    "tags": []
   },
   "outputs": [],
   "source": [
    "file bash.intro.ipynb"
   ]
  },
  {
   "cell_type": "code",
   "execution_count": null,
   "id": "e864cc26-b5e2-4e46-a6f4-b99e8b2c6106",
   "metadata": {
    "tags": []
   },
   "outputs": [],
   "source": [
    "jq .cells[1].source bash.intro.ipynb"
   ]
  }
 ],
 "metadata": {
  "kernelspec": {
   "display_name": "Bash",
   "language": "bash",
   "name": "bash"
  },
  "language_info": {
   "codemirror_mode": "shell",
   "file_extension": ".sh",
   "mimetype": "text/x-sh",
   "name": "bash"
  }
 },
 "nbformat": 4,
 "nbformat_minor": 5
}
