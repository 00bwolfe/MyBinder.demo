{
 "cells": [
  {
   "cell_type": "markdown",
   "id": "829bb40e-0f88-4ada-b158-99f57e80e1b0",
   "metadata": {},
   "source": [
    "# Linux shell commands using Bash"
   ]
  },
  {
   "cell_type": "code",
   "execution_count": 30,
   "id": "27e94cf1-3df4-447d-8081-1ba0072fb7bf",
   "metadata": {
    "tags": []
   },
   "outputs": [
    {
     "name": "stdout",
     "output_type": "stream",
     "text": [
      "13\n",
      "13\n"
     ]
    }
   ],
   "source": [
    "commands=\"tree find ls cat head tail wc fgrep cut seq shuf sed awk\"\n",
    "<<< ${commands} tr ' ' '\\n' | wc -l\n",
    "which ${commands} | wc -l"
   ]
  },
  {
   "cell_type": "markdown",
   "id": "e43bc442-f207-4e29-a184-77f46fc22056",
   "metadata": {},
   "source": [
    "## Files and the Filesystem"
   ]
  },
  {
   "cell_type": "markdown",
   "id": "a1ce71d9-93e6-4553-86dc-a1f3d6012046",
   "metadata": {
    "tags": []
   },
   "source": [
    "Computer operating systems use a number of different data structures in order to operate.  We will start exploring two of those data structures:\n",
    "\n",
    "- filesystem\n",
    "- files\n",
    "\n",
    "We will start with the filesystem then later we'll explore files.  And we are going to start by using two commands:\n",
    "\n",
    "- tree\n",
    "- find\n"
   ]
  },
  {
   "cell_type": "markdown",
   "id": "40ca0f63-499f-4a29-a42d-cdd757fae673",
   "metadata": {
    "tags": []
   },
   "source": [
    "### tree and find commands"
   ]
  },
  {
   "cell_type": "markdown",
   "id": "740237c5-f89f-4965-819a-8bfb59f6d186",
   "metadata": {
    "tags": []
   },
   "source": [
    "The filesystem is a hierarchy of files and directories ( aka folders ).\n",
    "Folders can contain both folders ( called subfolders or subdirectories ) and files.\n",
    "The commands `tree` and `find` allow us to traverse this hierarchy.\n",
    "\n",
    "> Note: As a shorthand, when I write `file`, I will often mean both files and folders.\n",
    "\n",
    "Starting from a specified location, both commands will show all the files that are \"lower\" in the hierarchy."
   ]
  },
  {
   "cell_type": "markdown",
   "id": "241bb94d-a6a6-418b-9a22-44a070e50884",
   "metadata": {},
   "source": [
    "In these two examples, I am specifying the starting location as `/etc/apt`."
   ]
  },
  {
   "cell_type": "code",
   "execution_count": 44,
   "id": "f843d73f-48e1-4176-8cc4-de4014fd97f8",
   "metadata": {
    "tags": []
   },
   "outputs": [
    {
     "name": "stdout",
     "output_type": "stream",
     "text": [
      "/etc/apt\n",
      "├── apt.conf.d\n",
      "│   ├── 01autoremove\n",
      "│   ├── 01-vendor-ubuntu\n",
      "│   ├── 70debconf\n",
      "│   ├── docker-autoremove-suggests\n",
      "│   ├── docker-clean\n",
      "│   ├── docker-disable-periodic-update\n",
      "│   ├── docker-gzip-indexes\n",
      "│   └── docker-no-languages\n",
      "├── auth.conf.d\n",
      "├── keyrings\n",
      "├── preferences.d\n",
      "├── sources.list\n",
      "├── sources.list.d\n",
      "└── trusted.gpg.d\n",
      "    ├── ubuntu-keyring-2012-cdimage.gpg\n",
      "    └── ubuntu-keyring-2018-archive.gpg\n",
      "\n",
      "6 directories, 11 files\n"
     ]
    }
   ],
   "source": [
    "tree /etc/apt"
   ]
  },
  {
   "cell_type": "code",
   "execution_count": 45,
   "id": "b342b124-e8ef-432e-be5f-d44d9fce4c2f",
   "metadata": {
    "tags": []
   },
   "outputs": [
    {
     "name": "stdout",
     "output_type": "stream",
     "text": [
      "/etc/apt\n",
      "/etc/apt/apt.conf.d\n",
      "/etc/apt/apt.conf.d/01-vendor-ubuntu\n",
      "/etc/apt/apt.conf.d/01autoremove\n",
      "/etc/apt/apt.conf.d/70debconf\n",
      "/etc/apt/apt.conf.d/docker-autoremove-suggests\n",
      "/etc/apt/apt.conf.d/docker-clean\n",
      "/etc/apt/apt.conf.d/docker-disable-periodic-update\n",
      "/etc/apt/apt.conf.d/docker-gzip-indexes\n",
      "/etc/apt/apt.conf.d/docker-no-languages\n",
      "/etc/apt/auth.conf.d\n",
      "/etc/apt/keyrings\n",
      "/etc/apt/preferences.d\n",
      "/etc/apt/sources.list\n",
      "/etc/apt/sources.list.d\n",
      "/etc/apt/trusted.gpg.d\n",
      "/etc/apt/trusted.gpg.d/ubuntu-keyring-2012-cdimage.gpg\n",
      "/etc/apt/trusted.gpg.d/ubuntu-keyring-2018-archive.gpg\n"
     ]
    }
   ],
   "source": [
    "find /etc/apt"
   ]
  },
  {
   "cell_type": "markdown",
   "id": "19585516-385c-4fd4-b348-662e53e13c96",
   "metadata": {},
   "source": [
    "Those are all the files that are \"below\" `/etc/apt`.\n",
    "\n",
    "The `tree` command provides a nice, graphic representation of the hierarchy, \n",
    "with lower levels indented from upper levels and connected by lines.\n",
    "In contrast, the `find` command provides a **listing** of all the files in the heirarchy.\n"
   ]
  },
  {
   "cell_type": "markdown",
   "id": "9f0e34c3-f54d-46ae-ade4-4da9e2df7ffc",
   "metadata": {},
   "source": [
    "If we use the `tree` command, we can distinguish between files and folders by using the `-F` flag ( aka option ), which adds a `/` to the end of folders.  There's no easy equivalent option with `find`.\n"
   ]
  },
  {
   "cell_type": "code",
   "execution_count": 43,
   "id": "ff927462-2160-49b3-bca8-b76e9bbce38c",
   "metadata": {
    "tags": []
   },
   "outputs": [
    {
     "name": "stdout",
     "output_type": "stream",
     "text": [
      "/etc/apt/\n",
      "├── apt.conf.d/\n",
      "│   ├── 01autoremove\n",
      "│   ├── 01-vendor-ubuntu\n",
      "│   ├── 70debconf\n",
      "│   ├── docker-autoremove-suggests\n",
      "│   ├── docker-clean\n",
      "│   ├── docker-disable-periodic-update\n",
      "│   ├── docker-gzip-indexes\n",
      "│   └── docker-no-languages\n",
      "├── auth.conf.d/\n",
      "├── keyrings/\n",
      "├── preferences.d/\n",
      "├── sources.list\n",
      "├── sources.list.d/\n",
      "└── trusted.gpg.d/\n",
      "    ├── ubuntu-keyring-2012-cdimage.gpg\n",
      "    └── ubuntu-keyring-2018-archive.gpg\n",
      "\n",
      "6 directories, 11 files\n"
     ]
    }
   ],
   "source": [
    "tree -F /etc/apt"
   ]
  },
  {
   "cell_type": "markdown",
   "id": "f135dee1-f689-444d-8f09-dd451eb668f3",
   "metadata": {},
   "source": [
    "Notice that all the folders end with a `/`, but files do not.\n",
    "\n",
    "The `/etc/apt/` notation specifies what is known as a `path`, which is a sequence of folder names separated by the `/` character.  We can go a level deeper by appending `trusted.gpg.d` to the path.\n"
   ]
  },
  {
   "cell_type": "code",
   "execution_count": 46,
   "id": "b2b9b1a1-b285-4829-9700-41dce5248db8",
   "metadata": {
    "tags": []
   },
   "outputs": [
    {
     "name": "stdout",
     "output_type": "stream",
     "text": [
      "/etc/apt/trusted.gpg.d/\n",
      "├── ubuntu-keyring-2012-cdimage.gpg\n",
      "└── ubuntu-keyring-2018-archive.gpg\n",
      "\n",
      "0 directories, 2 files\n"
     ]
    }
   ],
   "source": [
    "tree -F /etc/apt/trusted.gpg.d"
   ]
  },
  {
   "cell_type": "code",
   "execution_count": 8,
   "id": "dd3371d3-da74-4c86-9894-140d13392cb9",
   "metadata": {},
   "outputs": [
    {
     "name": "stdout",
     "output_type": "stream",
     "text": [
      "/etc/apt/trusted.gpg.d\n",
      "/etc/apt/trusted.gpg.d/ubuntu-keyring-2012-cdimage.gpg\n",
      "/etc/apt/trusted.gpg.d/ubuntu-keyring-2018-archive.gpg\n"
     ]
    }
   ],
   "source": [
    "find /etc/apt/trusted.gpg.d"
   ]
  },
  {
   "cell_type": "markdown",
   "id": "4f1fa742-5b55-495a-81e4-d2d64fab85af",
   "metadata": {},
   "source": []
  },
  {
   "cell_type": "code",
   "execution_count": 12,
   "id": "35d82905-1d57-472e-b9f0-fa794d37eb1c",
   "metadata": {
    "tags": []
   },
   "outputs": [
    {
     "name": "stdout",
     "output_type": "stream",
     "text": [
      "/etc/apt:\n",
      "apt.conf.d/   keyrings/       sources.list     trusted.gpg.d/\n",
      "auth.conf.d/  preferences.d/  sources.list.d/\n",
      "\n",
      "/etc/apt/apt.conf.d:\n",
      "01autoremove      docker-autoremove-suggests      docker-gzip-indexes\n",
      "01-vendor-ubuntu  docker-clean                    docker-no-languages\n",
      "70debconf         docker-disable-periodic-update\n",
      "\n",
      "/etc/apt/auth.conf.d:\n",
      "\n",
      "/etc/apt/keyrings:\n",
      "\n",
      "/etc/apt/preferences.d:\n",
      "\n",
      "/etc/apt/sources.list.d:\n",
      "\n",
      "/etc/apt/trusted.gpg.d:\n",
      "ubuntu-keyring-2012-cdimage.gpg  ubuntu-keyring-2018-archive.gpg\n"
     ]
    }
   ],
   "source": [
    "ls -RF /etc/apt/"
   ]
  },
  {
   "cell_type": "code",
   "execution_count": 14,
   "id": "546fd763-d06c-439e-b98c-dfbdaeb0858a",
   "metadata": {
    "tags": []
   },
   "outputs": [
    {
     "name": "stdout",
     "output_type": "stream",
     "text": [
      "# See http://help.ubuntu.com/community/UpgradeNotes for how to upgrade to\n",
      "# newer versions of the distribution.\n",
      "deb http://archive.ubuntu.com/ubuntu/ jammy main restricted\n",
      "# deb-src http://archive.ubuntu.com/ubuntu/ jammy main restricted\n",
      "\n",
      "## Major bug fix updates produced after the final release of the\n",
      "## distribution.\n",
      "deb http://archive.ubuntu.com/ubuntu/ jammy-updates main restricted\n",
      "# deb-src http://archive.ubuntu.com/ubuntu/ jammy-updates main restricted\n",
      "\n",
      "## N.B. software from this repository is ENTIRELY UNSUPPORTED by the Ubuntu\n",
      "## team. Also, please note that software in universe WILL NOT receive any\n",
      "## review or updates from the Ubuntu security team.\n",
      "deb http://archive.ubuntu.com/ubuntu/ jammy universe\n",
      "# deb-src http://archive.ubuntu.com/ubuntu/ jammy universe\n",
      "deb http://archive.ubuntu.com/ubuntu/ jammy-updates universe\n",
      "# deb-src http://archive.ubuntu.com/ubuntu/ jammy-updates universe\n",
      "\n",
      "## N.B. software from this repository is ENTIRELY UNSUPPORTED by the Ubuntu\n",
      "## team, and may not be under a free licence. Please satisfy yourself as to\n",
      "## your rights to use the software. Also, please note that software in\n",
      "## multiverse WILL NOT receive any review or updates from the Ubuntu\n",
      "## security team.\n",
      "deb http://archive.ubuntu.com/ubuntu/ jammy multiverse\n",
      "# deb-src http://archive.ubuntu.com/ubuntu/ jammy multiverse\n",
      "deb http://archive.ubuntu.com/ubuntu/ jammy-updates multiverse\n",
      "# deb-src http://archive.ubuntu.com/ubuntu/ jammy-updates multiverse\n",
      "\n",
      "## N.B. software from this repository may not have been tested as\n",
      "## extensively as that contained in the main release, although it includes\n",
      "## newer versions of some applications which may provide useful features.\n",
      "## Also, please note that software in backports WILL NOT receive any review\n",
      "## or updates from the Ubuntu security team.\n",
      "deb http://archive.ubuntu.com/ubuntu/ jammy-backports main restricted universe multiverse\n",
      "# deb-src http://archive.ubuntu.com/ubuntu/ jammy-backports main restricted universe multiverse\n",
      "\n",
      "deb http://security.ubuntu.com/ubuntu/ jammy-security main restricted\n",
      "# deb-src http://security.ubuntu.com/ubuntu/ jammy-security main restricted\n",
      "deb http://security.ubuntu.com/ubuntu/ jammy-security universe\n",
      "# deb-src http://security.ubuntu.com/ubuntu/ jammy-security universe\n",
      "deb http://security.ubuntu.com/ubuntu/ jammy-security multiverse\n",
      "# deb-src http://security.ubuntu.com/ubuntu/ jammy-security multiverse\n"
     ]
    }
   ],
   "source": [
    "cat /etc/apt/sources.list"
   ]
  },
  {
   "cell_type": "markdown",
   "id": "ee29cfef-d3cc-44ad-9ee0-d31a717aeab5",
   "metadata": {},
   "source": [
    "## Files"
   ]
  },
  {
   "cell_type": "markdown",
   "id": "20db1428-4264-4d21-8b0d-58c02f3b4060",
   "metadata": {},
   "source": [
    "### File contents"
   ]
  },
  {
   "cell_type": "markdown",
   "id": "507fc79c-34ac-437c-8317-5d3f7be20a00",
   "metadata": {},
   "source": [
    "Just like `ls` displays the contents of a subdirectory, `cat` displays the contents of a file ... with some interpretation.  For example:"
   ]
  },
  {
   "cell_type": "code",
   "execution_count": 47,
   "id": "c2a3b1f6-6c1f-4ec3-ae2b-98ac34c291fb",
   "metadata": {
    "tags": []
   },
   "outputs": [
    {
     "name": "stdout",
     "output_type": "stream",
     "text": [
      "bookworm/sid\n"
     ]
    }
   ],
   "source": [
    "cat /etc/debian_version"
   ]
  }
 ],
 "metadata": {
  "kernelspec": {
   "display_name": "Bash",
   "language": "bash",
   "name": "bash"
  },
  "language_info": {
   "codemirror_mode": "shell",
   "file_extension": ".sh",
   "mimetype": "text/x-sh",
   "name": "bash"
  }
 },
 "nbformat": 4,
 "nbformat_minor": 5
}
