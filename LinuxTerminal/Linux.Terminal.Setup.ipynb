{
 "cells": [
  {
   "cell_type": "markdown",
   "id": "c95bcd17-8d14-4a71-a5ed-44dabcbabb46",
   "metadata": {},
   "source": [
    "# Linux Terminal Setup\n",
    "This sets up an environment that mimics what is in this video about the Linux terminal.\n",
    "https://www.youtube.com/watch?v=SkB-eRCzWIU\n",
    "\n"
   ]
  },
  {
   "cell_type": "code",
   "execution_count": null,
   "id": "fee12efc-3354-4715-9d1b-30cd9383befc",
   "metadata": {},
   "outputs": [],
   "source": [
    "cd ~/\n",
    "mkdir -p Desktop Documents Downloads Music Pictures/Tests Public Templates Videos 'VirtualBox VMs' Virtual_Macs\n",
    "touch mozilla.pdf\n",
    "\n",
    "cd ~/Pictures/\n",
    "touch Inkscape_Table.svg Inkscape_Test.svg Tests/Drive_100_Percent_Firefox.png\n",
    "\n",
    "cd ~/Documents\n",
    "touch Sample_Word_Doc.doc\n",
    "\n",
    "mkdir -p /tmp/cjb/TRAN_APR19\n",
    "cd /tmp/cjb/TRAN_APR19\n",
    "touch Wide.png Derby_Crewe.png EC_Odroid_N2.rtf\n",
    "\n",
    "cd /tmp\n",
    "mkdir -p layer-effects\n",
    "touch layer-effects/layerfx.py\n",
    "zip -qr ~/Downloads/layer-effects.zip ./layer-effects\n",
    "\n",
    "alias ls='ls -1F --color'\n",
    "\n",
    "cd ~/\n"
   ]
  },
  {
   "cell_type": "markdown",
   "id": "ee7d01f6-2974-4bd9-a311-ec8b2364ab33",
   "metadata": {},
   "source": [
    "Once you've run the above command cell, you can follow along in the video, type commands, and run them in this Notebook.  There are only three differences with the video:\n",
    "1. The home folder has a different name, /home/jovyan/ instead of /home/cjb/\n",
    "1. The file names are mostly the same.  But not every file in the video is here and there are some files here that are not in the video\n",
    "1. The /media/ folder has been substituted by the /tmp/ folder\n",
    "\n"
   ]
  },
  {
   "cell_type": "markdown",
   "id": "e5add9b7-0c9a-47b4-b8cd-97cc9787362b",
   "metadata": {},
   "source": [
    "Alternatively, you can start a Terminal ( File > New > Terminal ), and type commands there. "
   ]
  },
  {
   "cell_type": "code",
   "execution_count": null,
   "id": "45f3a67e-9962-4f11-beaa-f117e681f08a",
   "metadata": {},
   "outputs": [],
   "source": []
  }
 ],
 "metadata": {
  "kernelspec": {
   "display_name": "Bash",
   "language": "bash",
   "name": "bash"
  },
  "language_info": {
   "codemirror_mode": "shell",
   "file_extension": ".sh",
   "mimetype": "text/x-sh",
   "name": "bash"
  }
 },
 "nbformat": 4,
 "nbformat_minor": 5
}
